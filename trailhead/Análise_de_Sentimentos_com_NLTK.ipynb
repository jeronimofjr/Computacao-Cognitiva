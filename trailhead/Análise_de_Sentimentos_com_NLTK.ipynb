{
  "nbformat": 4,
  "nbformat_minor": 0,
  "metadata": {
    "colab": {
      "name": "Análise de Sentimentos com NLTK.ipynb",
      "provenance": [],
      "collapsed_sections": []
    },
    "kernelspec": {
      "name": "python3",
      "display_name": "Python 3"
    },
    "language_info": {
      "name": "python"
    }
  },
  "cells": [
    {
      "cell_type": "markdown",
      "source": [
        "### Análise de Sentimentos com NLTK\n",
        "\n",
        "A análise de sentimentos é uma tarefa comum da PNL, que envolve a classificação de textos ou partes de textos em um sentimento predefinido."
      ],
      "metadata": {
        "id": "C-Z154mJ2aJv"
      }
    },
    {
      "cell_type": "markdown",
      "source": [
        "#### Importação das Bibliotecas"
      ],
      "metadata": {
        "id": "TzPHt-4mvGxB"
      }
    },
    {
      "cell_type": "code",
      "source": [
        "import nltk\n",
        "from nltk.corpus import twitter_samples\n",
        "from nltk.tag import pos_tag\n",
        "from nltk.stem.wordnet import WordNetLemmatizer \n",
        "from nltk.corpus import stopwords\n",
        "from nltk import FreqDist\n",
        "from nltk.tokenize import word_tokenize  \n",
        "from nltk import classify\n",
        "from nltk import NaiveBayesClassifier\n",
        "\n",
        "\n",
        "import re, string, random"
      ],
      "metadata": {
        "id": "pjIdMLvLVHMz"
      },
      "execution_count": 1,
      "outputs": []
    },
    {
      "cell_type": "code",
      "source": [
        "nltk.download('twitter_samples')\n",
        "nltk.download('punkt')\n",
        "nltk.download('stopwords')\n",
        "nltk.download('wordnet')\n",
        "nltk.download('averaged_perceptron_tagger')"
      ],
      "metadata": {
        "colab": {
          "base_uri": "https://localhost:8080/"
        },
        "id": "SEHjTl42pVZW",
        "outputId": "85ac674e-cde3-453a-8ffb-b95690f3ae41"
      },
      "execution_count": 2,
      "outputs": [
        {
          "output_type": "stream",
          "name": "stdout",
          "text": [
            "[nltk_data] Downloading package twitter_samples to /root/nltk_data...\n",
            "[nltk_data]   Unzipping corpora/twitter_samples.zip.\n",
            "[nltk_data] Downloading package punkt to /root/nltk_data...\n",
            "[nltk_data]   Unzipping tokenizers/punkt.zip.\n",
            "[nltk_data] Downloading package stopwords to /root/nltk_data...\n",
            "[nltk_data]   Unzipping corpora/stopwords.zip.\n",
            "[nltk_data] Downloading package wordnet to /root/nltk_data...\n",
            "[nltk_data]   Unzipping corpora/wordnet.zip.\n",
            "[nltk_data] Downloading package averaged_perceptron_tagger to\n",
            "[nltk_data]     /root/nltk_data...\n",
            "[nltk_data]   Unzipping taggers/averaged_perceptron_tagger.zip.\n"
          ]
        },
        {
          "output_type": "execute_result",
          "data": {
            "text/plain": [
              "True"
            ]
          },
          "metadata": {},
          "execution_count": 2
        }
      ]
    },
    {
      "cell_type": "code",
      "source": [
        "def remove_noise(tweet_tokens, stop_words = ()):\n",
        "    cleaned_tokens = []\n",
        "    for token, tag in pos_tag(tweet_tokens):\n",
        "        token = re.sub('http[s]?://(?:[a-zA-Z]|[0-9]|[$-_@.&+#]|[!*\\(\\),]|(?:%[0-9a-fA-F][0-9a-fA-F]))+','', token)\n",
        "        token = re.sub(\"(@[A-Za-z0-9_]+)\",\"\", token)\n",
        "        if tag.startswith(\"NN\"):\n",
        "            pos = 'n'\n",
        "        elif tag.startswith('VB'):\n",
        "            pos = 'v'\n",
        "        else:\n",
        "            pos = 'a'\n",
        "        lemmatizer = WordNetLemmatizer()\n",
        "        token = lemmatizer.lemmatize(token, pos)\n",
        "        if len(token) > 0 and token not in string.punctuation and token.lower() not in stop_words:\n",
        "            cleaned_tokens.append(token.lower())\n",
        "    return cleaned_tokens"
      ],
      "metadata": {
        "id": "kG1odi0N40IP"
      },
      "execution_count": 3,
      "outputs": []
    },
    {
      "cell_type": "code",
      "source": [
        "def get_all_words(cleaned_tokens_list):\n",
        "    for tokens in cleaned_tokens_list:\n",
        "        for token in tokens:\n",
        "            yield token "
      ],
      "metadata": {
        "id": "aTZN40fuNGCB"
      },
      "execution_count": 4,
      "outputs": []
    },
    {
      "cell_type": "code",
      "source": [
        "def get_tweets_for_model(cleaned_tokens_list):\n",
        "    for tweet_tokens in cleaned_tokens_list:\n",
        "        yield dict([token, True] for token in tweet_tokens) "
      ],
      "metadata": {
        "id": "V9yFzEmJib32"
      },
      "execution_count": 5,
      "outputs": []
    },
    {
      "cell_type": "markdown",
      "source": [
        "#### Leitura dos dados"
      ],
      "metadata": {
        "id": "WT2QQIT9YbL1"
      }
    },
    {
      "cell_type": "code",
      "source": [
        "positive_tweets = twitter_samples.strings('positive_tweets.json')\n",
        "negative_tweets = twitter_samples.strings('negative_tweets.json')\n",
        "text = twitter_samples.strings('tweets.20150430-223406.json')"
      ],
      "metadata": {
        "id": "E5GLNNy_qCiJ"
      },
      "execution_count": 6,
      "outputs": []
    },
    {
      "cell_type": "code",
      "source": [
        "print(f'Tamanho: {len(positive_tweets)}')\n",
        "print(f'Tamanho: {len(negative_tweets)}')\n",
        "print(f'Tamanho: {len(text)}')"
      ],
      "metadata": {
        "colab": {
          "base_uri": "https://localhost:8080/"
        },
        "id": "BEXf4Oo8sPAG",
        "outputId": "2e4a7513-3810-459d-be62-fd8de7ba6411"
      },
      "execution_count": 7,
      "outputs": [
        {
          "output_type": "stream",
          "name": "stdout",
          "text": [
            "Tamanho: 5000\n",
            "Tamanho: 5000\n",
            "Tamanho: 20000\n"
          ]
        }
      ]
    },
    {
      "cell_type": "markdown",
      "source": [
        "#### Tokenização"
      ],
      "metadata": {
        "id": "pr4mLMlVXObq"
      }
    },
    {
      "cell_type": "code",
      "source": [
        "positive_tweets_tokens = twitter_samples.tokenized('positive_tweets.json')\n",
        "negative_tweets_tokens = twitter_samples.tokenized('negative_tweets.json')\n",
        "tweet_tokens = twitter_samples.tokenized('tweets.20150430-223406.json')"
      ],
      "metadata": {
        "id": "GX8M9GOuKPFE"
      },
      "execution_count": 8,
      "outputs": []
    },
    {
      "cell_type": "markdown",
      "source": [
        "#### Normalização e Limpeza dos dados"
      ],
      "metadata": {
        "id": "2m1o7kCTtw6H"
      }
    },
    {
      "cell_type": "code",
      "source": [
        "stop_words = stopwords.words('english') \n",
        "positive_cleaned_tokens_list = []\n",
        "negative_cleaned_tokens_list = []\n",
        "for tokens in positive_tweets_tokens:\n",
        "    positive_cleaned_tokens_list.append(remove_noise(tokens, stop_words))\n",
        "for tokens in negative_tweets_tokens:\n",
        "    negative_cleaned_tokens_list.append(remove_noise(tokens, stop_words))"
      ],
      "metadata": {
        "id": "ygXaIjc_MFGN"
      },
      "execution_count": 9,
      "outputs": []
    },
    {
      "cell_type": "markdown",
      "source": [
        "#### Preparação dos dados para o modelo"
      ],
      "metadata": {
        "id": "wyFic7b-uRdq"
      }
    },
    {
      "cell_type": "code",
      "source": [
        "positive_tokens_for_model = get_tweets_for_model(positive_cleaned_tokens_list)\n",
        "negative_tokens_for_model = get_tweets_for_model(negative_cleaned_tokens_list)"
      ],
      "metadata": {
        "id": "uOjUpFCm3pur"
      },
      "execution_count": 10,
      "outputs": []
    },
    {
      "cell_type": "markdown",
      "source": [
        "#### Divisão do conjunto de dados para treinamento e teste do modelo"
      ],
      "metadata": {
        "id": "dglh8CEXiqTk"
      }
    },
    {
      "cell_type": "code",
      "source": [
        "positive_dataset = [(tweet_dict, \"Positive\")for tweet_dict in positive_tokens_for_model] \n",
        "negative_dataset = [(tweet_dict, \"Negative\")for tweet_dict in negative_tokens_for_model]\n",
        "dataset = positive_dataset + negative_dataset \n",
        "random.shuffle(dataset)\n",
        "\n",
        "train_data = dataset[:7000]\n",
        "test_data = dataset[7000:]"
      ],
      "metadata": {
        "id": "p7eMOc2KkHWy"
      },
      "execution_count": 11,
      "outputs": []
    },
    {
      "cell_type": "markdown",
      "source": [
        "#### Criando e testando o modelo"
      ],
      "metadata": {
        "id": "bIdE8uL0lHOp"
      }
    },
    {
      "cell_type": "code",
      "source": [
        "classifier = NaiveBayesClassifier.train(train_data) \n",
        "print(\"Accuracy is:\", classify.accuracy(classifier, test_data)) \n",
        "print(classifier.show_most_informative_features(10))"
      ],
      "metadata": {
        "colab": {
          "base_uri": "https://localhost:8080/"
        },
        "id": "pzIOsI5clwK3",
        "outputId": "54bf8d0f-c3c4-42d7-ee5a-9a0a5b8b3e78"
      },
      "execution_count": 13,
      "outputs": [
        {
          "output_type": "stream",
          "name": "stdout",
          "text": [
            "Accuracy is: 0.997\n",
            "Most Informative Features\n",
            "                      :) = True           Positi : Negati =    986.8 : 1.0\n",
            "                follower = True           Positi : Negati =     31.9 : 1.0\n",
            "                     sad = True           Negati : Positi =     24.5 : 1.0\n",
            "                    glad = True           Positi : Negati =     20.7 : 1.0\n",
            "                   enjoy = True           Positi : Negati =     14.2 : 1.0\n",
            "                   didnt = True           Negati : Positi =     11.8 : 1.0\n",
            "               goodnight = True           Positi : Negati =     11.5 : 1.0\n",
            "              definitely = True           Positi : Negati =     10.8 : 1.0\n",
            "                    miss = True           Negati : Positi =     10.8 : 1.0\n",
            "                 welcome = True           Positi : Negati =     10.0 : 1.0\n",
            "None\n"
          ]
        }
      ]
    }
  ]
}