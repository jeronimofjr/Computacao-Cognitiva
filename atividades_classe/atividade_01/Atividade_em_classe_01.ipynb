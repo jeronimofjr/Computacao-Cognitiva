{
 "cells": [
  {
   "cell_type": "markdown",
   "metadata": {
    "id": "vEMc0ToPcZ4g"
   },
   "source": [
    "# Atividade de classe 01\n",
    "\n",
    "Ativade 01 do Bootcamp do Instituto Atlântico da turma de Computação Cognitiva. A atividade é referente ao primeiro módulo do Bootcamp onde é abordado o tema de NLP (Natural Language Processing). \n",
    "\n",
    "Na atividade foi abordado ReGex, os principais métodos da biblioteca `re` e a classe `tokenize` da biblioteca `nltk`, onde praticamos formas de encontrarmmos padrões nos textos e a melhor forma de manipularmos.\n"
   ]
  },
  {
   "cell_type": "markdown",
   "metadata": {
    "id": "pnXQrO2fPuV2"
   },
   "source": [
    "### Importação das bibliotecas"
   ]
  },
  {
   "cell_type": "code",
   "execution_count": 53,
   "metadata": {
    "id": "vc8QsEfzP04O"
   },
   "outputs": [],
   "source": [
    "import nltk\n",
    "from nltk.tokenize import RegexpTokenizer, word_tokenize, sent_tokenize, TweetTokenizer, regexp_tokenize\n",
    "\n",
    "import matplotlib.pyplot as plt\n",
    "\n",
    "import string\n",
    "import re"
   ]
  },
  {
   "cell_type": "code",
   "execution_count": 55,
   "metadata": {
    "colab": {
     "base_uri": "https://localhost:8080/"
    },
    "id": "WUrkx4L1QmD8",
    "outputId": "f5d36458-beb5-462e-b8ba-3971222d5009"
   },
   "outputs": [
    {
     "name": "stdout",
     "output_type": "stream",
     "text": [
      "[nltk_data] Downloading package punkt to /root/nltk_data...\n",
      "[nltk_data]   Package punkt is already up-to-date!\n"
     ]
    },
    {
     "data": {
      "text/plain": [
       "True"
      ]
     },
     "execution_count": 55,
     "metadata": {},
     "output_type": "execute_result"
    }
   ],
   "source": [
    "nltk.download('punkt')"
   ]
  },
  {
   "cell_type": "markdown",
   "metadata": {
    "id": "dUUts2n5WPMW"
   },
   "source": [
    "### Questão 01\n",
    "\n",
    "#### Praticando expressões regulares: re.split() e re.findall()"
   ]
  },
  {
   "cell_type": "code",
   "execution_count": 56,
   "metadata": {
    "id": "F979E_a1TSId"
   },
   "outputs": [],
   "source": [
    "# Write a pattern to match sentence endings: sentence_endings\n",
    "my_string = \"Let's write RegEx!  Won't that be fun?  \" \\\n",
    "            \"I sure think so.  Can you find 4 sentences? \" \\\n",
    "            \"Or perhaps, all 19 words?\""
   ]
  },
  {
   "cell_type": "code",
   "execution_count": 57,
   "metadata": {
    "colab": {
     "base_uri": "https://localhost:8080/",
     "height": 35
    },
    "id": "5uVBah7QTXK6",
    "outputId": "3de6d44d-e513-4555-a485-df43bba61094"
   },
   "outputs": [
    {
     "data": {
      "application/vnd.google.colaboratory.intrinsic+json": {
       "type": "string"
      },
      "text/plain": [
       "\"Let's write RegEx!  Won't that be fun?  I sure think so.  Can you find 4 sentences? Or perhaps, all 19 words?\""
      ]
     },
     "execution_count": 57,
     "metadata": {},
     "output_type": "execute_result"
    }
   ],
   "source": [
    "my_string"
   ]
  },
  {
   "cell_type": "code",
   "execution_count": 58,
   "metadata": {
    "id": "7HHcHiaoUD1i"
   },
   "outputs": [],
   "source": [
    "sentence_endings = r\"[.?!]\""
   ]
  },
  {
   "cell_type": "code",
   "execution_count": 59,
   "metadata": {
    "colab": {
     "base_uri": "https://localhost:8080/"
    },
    "id": "C-MQZdjmUGOv",
    "outputId": "a604d97a-7d8c-45e2-b515-f766f2c0b454"
   },
   "outputs": [
    {
     "name": "stdout",
     "output_type": "stream",
     "text": [
      "[\"Let's write RegEx\", \"  Won't that be fun\", '  I sure think so', '  Can you find 4 sentences', ' Or perhaps, all 19 words', '']\n"
     ]
    }
   ],
   "source": [
    "# Split my_string on sentence endings and print the result\n",
    "print(re.split(sentence_endings, my_string))"
   ]
  },
  {
   "cell_type": "code",
   "execution_count": 60,
   "metadata": {
    "colab": {
     "base_uri": "https://localhost:8080/"
    },
    "id": "kx2u6xAnUy0a",
    "outputId": "81c3c434-afc5-4047-88ba-35767c2789dc"
   },
   "outputs": [
    {
     "name": "stdout",
     "output_type": "stream",
     "text": [
      "['Let', 'RegEx', 'Won', 'I', 'Can', 'Or']\n"
     ]
    }
   ],
   "source": [
    "# Find all capitalized words in my_string and print the result\n",
    "capitalized_words = r\"[A-Z]\\w*\"\n",
    "print(re.findall(capitalized_words, my_string))"
   ]
  },
  {
   "cell_type": "code",
   "execution_count": 61,
   "metadata": {
    "colab": {
     "base_uri": "https://localhost:8080/"
    },
    "id": "XChNpepYVcVi",
    "outputId": "2899a3d3-e8ca-42d2-918b-643aaec0a15b"
   },
   "outputs": [
    {
     "name": "stdout",
     "output_type": "stream",
     "text": [
      "[\"Let's\", 'write', 'RegEx!', \"Won't\", 'that', 'be', 'fun?', 'I', 'sure', 'think', 'so.', 'Can', 'you', 'find', '4', 'sentences?', 'Or', 'perhaps,', 'all', '19', 'words?']\n"
     ]
    }
   ],
   "source": [
    "# Split my_string on spaces and print the result\n",
    "spaces = r\"\\s+\"\n",
    "print(re.split(spaces, my_string))"
   ]
  },
  {
   "cell_type": "code",
   "execution_count": 62,
   "metadata": {
    "colab": {
     "base_uri": "https://localhost:8080/"
    },
    "id": "ScMP1M3dTWqz",
    "outputId": "d4828333-de36-4988-cceb-9b308b47ec95"
   },
   "outputs": [
    {
     "name": "stdout",
     "output_type": "stream",
     "text": [
      "['4', '19']\n"
     ]
    }
   ],
   "source": [
    "# Find all digits in my_string and print the result\n",
    "digits = r\"\\d+\"\n",
    "print(re.findall(digits, my_string))"
   ]
  },
  {
   "cell_type": "markdown",
   "metadata": {
    "id": "YliEXS2dWkKd"
   },
   "source": [
    "### Questão 02\n",
    "\n",
    "#### Tokenização com NLTK"
   ]
  },
  {
   "cell_type": "code",
   "execution_count": 63,
   "metadata": {
    "id": "oSH_4slnW60g"
   },
   "outputs": [],
   "source": [
    "def get_sample_Santo_Graal():\n",
    "  return \"SCENE 1: [wind] [clop clop clop] \\n KING ARTHUR: Whoa there!  [clop clop clop] \\nSOLDIER #1: Halt!  Who goes there?\\nARTHUR: It is I, Arthur, son of Uther Pendragon, from the castle of Camelot.  King of the Britons, defeator of the Saxons, sovereign of all England!\\nSOLDIER #1: Pull the other one!\\nARTHUR: I am, ...  and this is my trusty servant Patsy.  We have ridden the length and breadth of the land in search of knights who will join me in my court at Camelot.  I must speak with your lord and master.\\nSOLDIER #1: What?  Ridden on a horse?\\nARTHUR: Yes!\\nSOLDIER #1: You're using coconuts!\\nARTHUR: What?\\nSOLDIER #1: You've got two empty halves of coconut and you're bangin' 'em together.\\nARTHUR: So?  We have ridden since the snows of winter covered this land, through the kingdom of Mercea, through--\\nSOLDIER #1: Where'd you get the coconuts?\\nARTHUR: We found them.\\nSOLDIER #1: Found them?  In Mercea?  The coconut's tropical!\\nARTHUR: What do you mean?\\nSOLDIER #1: Well, this is a temperate zone.\\nARTHUR: The swallow may fly south with the sun or the house martin or the plover may seek warmer climes in winter, yet these are not strangers to our land?\\nSOLDIER #1: Are you suggesting coconuts migrate?\\nARTHUR: Not at all.  They could be carried.\\nSOLDIER #1: What?  A swallow carrying a coconut?\\nARTHUR: It could grip it by the husk!\\nSOLDIER #1: It's not a question of where he grips it!  It's a simple question of weight ratios!  A five ounce bird could not carry a one pound coconut.\\nARTHUR: Well, it doesn't matter.  Will you go and tell your master that Arthur from the Court of Camelot is here.\\nSOLDIER #1: Listen.  In order to maintain air-speed velocity, a swallow needs to beat its wings forty-three times every second, right?\\nARTHUR: Please!\\nSOLDIER #1: Am I right?\\nARTHUR: I'm not interested!\\nSOLDIER #2: It could be carried by an African swallow!\\nSOLDIER #1: Oh, yeah, an African swallow maybe, but not a European swallow.  That's my point.\\nSOLDIER #2: Oh, yeah, I agree with that.\\nARTHUR: Will you ask your master if he wants to join my court at Camelot?!\\nSOLDIER #1: But then of course a-- African swallows are non-migratory.\\nSOLDIER #2: Oh, yeah...\\nSOLDIER #1: So they couldn't bring a coconut back anyway...  [clop clop clop] \\nSOLDIER #2: Wait a minute!  Supposing two swallows carried it together?\\nSOLDIER #1: No, they'd have to have it on a line.\\nSOLDIER #2: Well, simple!  They'd just use a strand of creeper!\\nSOLDIER #1: What, held under the dorsal guiding feathers?\\nSOLDIER #2: Well, why not?\\n\"\n",
    "\n",
    "def get_tweets_sample():\n",
    "  return ['This is the best #nlp exercise ive found online! #python',\n",
    "  '#NLP is super fun! <3 #learning',\n",
    "  'Thanks @Atlantico :) #nlp #python']"
   ]
  },
  {
   "cell_type": "code",
   "execution_count": 64,
   "metadata": {
    "colab": {
     "base_uri": "https://localhost:8080/"
    },
    "id": "ffNmQzmvYMgT",
    "outputId": "6b52ccf3-0c51-4746-ce5d-a870b0e41f44"
   },
   "outputs": [
    {
     "name": "stdout",
     "output_type": "stream",
     "text": [
      "SCENE 1: [wind] [clop clop clop] \n",
      " KING ARTHUR: Whoa there!\n",
      "[clop clop clop] \n",
      "SOLDIER #1: Halt!\n",
      "Who goes there?\n",
      "ARTHUR: It is I, Arthur, son of Uther Pendragon, from the castle of Camelot.\n",
      "King of the Britons, defeator of the Saxons, sovereign of all England!\n",
      "SOLDIER #1: Pull the other one!\n",
      "ARTHUR: I am, ...  and this is my trusty servant Patsy.\n",
      "We have ridden the length and breadth of the land in search of knights who will join me in my court at Camelot.\n",
      "I must speak with your lord and master.\n",
      "SOLDIER #1: What?\n",
      "Ridden on a horse?\n",
      "ARTHUR: Yes!\n",
      "SOLDIER #1: You're using coconuts!\n",
      "ARTHUR: What?\n",
      "SOLDIER #1: You've got two empty halves of coconut and you're bangin' 'em together.\n",
      "ARTHUR: So?\n",
      "We have ridden since the snows of winter covered this land, through the kingdom of Mercea, through--\n",
      "SOLDIER #1: Where'd you get the coconuts?\n",
      "ARTHUR: We found them.\n",
      "SOLDIER #1: Found them?\n",
      "In Mercea?\n",
      "The coconut's tropical!\n",
      "ARTHUR: What do you mean?\n",
      "SOLDIER #1: Well, this is a temperate zone.\n",
      "ARTHUR: The swallow may fly south with the sun or the house martin or the plover may seek warmer climes in winter, yet these are not strangers to our land?\n",
      "SOLDIER #1: Are you suggesting coconuts migrate?\n",
      "ARTHUR: Not at all.\n",
      "They could be carried.\n",
      "SOLDIER #1: What?\n",
      "A swallow carrying a coconut?\n",
      "ARTHUR: It could grip it by the husk!\n",
      "SOLDIER #1: It's not a question of where he grips it!\n",
      "It's a simple question of weight ratios!\n",
      "A five ounce bird could not carry a one pound coconut.\n",
      "ARTHUR: Well, it doesn't matter.\n",
      "Will you go and tell your master that Arthur from the Court of Camelot is here.\n",
      "SOLDIER #1: Listen.\n",
      "In order to maintain air-speed velocity, a swallow needs to beat its wings forty-three times every second, right?\n",
      "ARTHUR: Please!\n",
      "SOLDIER #1: Am I right?\n",
      "ARTHUR: I'm not interested!\n",
      "SOLDIER #2: It could be carried by an African swallow!\n",
      "SOLDIER #1: Oh, yeah, an African swallow maybe, but not a European swallow.\n",
      "That's my point.\n",
      "SOLDIER #2: Oh, yeah, I agree with that.\n",
      "ARTHUR: Will you ask your master if he wants to join my court at Camelot?!\n",
      "SOLDIER #1: But then of course a-- African swallows are non-migratory.\n",
      "SOLDIER #2: Oh, yeah...\n",
      "SOLDIER #1: So they couldn't bring a coconut back anyway...  [clop clop clop] \n",
      "SOLDIER #2: Wait a minute!\n",
      "Supposing two swallows carried it together?\n",
      "SOLDIER #1: No, they'd have to have it on a line.\n",
      "SOLDIER #2: Well, simple!\n",
      "They'd just use a strand of creeper!\n",
      "SOLDIER #1: What, held under the dorsal guiding feathers?\n",
      "SOLDIER #2: Well, why not?\n"
     ]
    }
   ],
   "source": [
    "# Split scene_one into sentences: sentences\n",
    "scene_one = get_sample_Santo_Graal()\n",
    "sentences = sent_tokenize(scene_one)\n",
    "print(*sentences, sep='\\n')"
   ]
  },
  {
   "cell_type": "code",
   "execution_count": 65,
   "metadata": {
    "colab": {
     "base_uri": "https://localhost:8080/"
    },
    "id": "RpfgzDXHZke9",
    "outputId": "7e9d438d-0255-4b5a-ff0f-3e5d6690cb4f"
   },
   "outputs": [
    {
     "name": "stdout",
     "output_type": "stream",
     "text": [
      "['ARTHUR', ':', 'It', 'is', 'I', ',', 'Arthur', ',', 'son', 'of', 'Uther', 'Pendragon', ',', 'from', 'the', 'castle', 'of', 'Camelot', '.']\n"
     ]
    }
   ],
   "source": [
    "# Use word_tokenize to tokenize the fourth sentence: tokenized_sent\n",
    "tokenized_sent = word_tokenize(sentences[3])\n",
    "print(tokenized_sent)"
   ]
  },
  {
   "cell_type": "code",
   "execution_count": 66,
   "metadata": {
    "colab": {
     "base_uri": "https://localhost:8080/"
    },
    "id": "jpPOAx8uWvc6",
    "outputId": "02df3a22-fdea-41c2-c1f1-d0f521a88d71"
   },
   "outputs": [
    {
     "name": "stdout",
     "output_type": "stream",
     "text": [
      "{'then', 'agree', \"'ve\", 'join', 'zone', 'Arthur', 'The', 'got', 'course', '1', 'through', 'Camelot', 'martin', 'mean', 'carry', 'European', 'husk', 'wind', 'Saxons', 'lord', 'fly', 'line', 'bring', 'and', 'Wait', 'Uther', '?', 'where', '.', 'one', 'your', 'son', 'two', 'must', 'our', 'wings', 'Where', 'minute', 'me', 'house', 'back', 'found', 'winter', 'England', ']', 'pound', 'snows', 'empty', 'times', 'that', 'it', 'Yes', 'may', 'to', 'right', 'climes', 'be', 'use', 'anyway', 'creeper', 'bangin', 'seek', 'But', 'non-migratory', 'will', 'Halt', \"'d\", 'Listen', 'why', 'or', 'question', \"n't\", \"'s\", 'goes', 'you', 'strangers', 'migrate', 'its', '[', 'yet', 'Oh', 'who', 'these', 'not', 'KING', 'Pendragon', 'ounce', 'temperate', 'my', 'in', 'weight', 'So', 'of', 'land', 'Will', \"'re\", 'all', 'That', 'ask', 'knights', 'interested', '!', 'this', 'bird', 'tropical', 'go', 'ratios', 'sun', 'simple', 'velocity', ',', 'yeah', 'length', 'they', 'them', 'castle', 'Not', 'every', 'Please', 'here', 'Found', 'King', 'SOLDIER', 'do', 'beat', 'halves', 'They', 'No', 'clop', 'coconut', \"'\", 'other', 'horse', 'covered', 'Are', 'he', 'second', 'SCENE', 'under', 'Court', 'African', 'south', 'wants', 'Well', 'together', 'swallow', 'coconuts', 'search', 'dorsal', 'defeator', 'swallows', 'kingdom', 'I', 'are', 'but', 'air-speed', 'servant', 'since', 'if', 'Patsy', 'sovereign', 'from', 'grips', 'What', 'needs', 'plover', 'order', 'have', 'a', 'there', 'strand', 'ridden', '--', \"'em\", 'feathers', 'Mercea', 'am', 'court', 'In', 'warmer', 'an', 'It', 'forty-three', 'held', 'guiding', '...', 'Pull', 'is', 'tell', 'maintain', 'point', 'trusty', 'Whoa', '#', 'the', 'does', 'maybe', 'Who', ':', 'suggesting', 'using', '2', 'Britons', 'Supposing', 'Ridden', 'matter', 'grip', 'carrying', 'could', 'get', 'just', 'by', 'carried', 'with', 'speak', 'ARTHUR', 'at', 'You', \"'m\", 'master', 'five', 'A', 'breadth', 'Am', 'We', 'on'}\n"
     ]
    }
   ],
   "source": [
    "# Make a set of unique tokens in the entire scene: unique_tokens\n",
    "unique_tokens = set(word_tokenize(scene_one))\n",
    "\n",
    "# Print the unique tokens result\n",
    "print(unique_tokens)"
   ]
  },
  {
   "cell_type": "markdown",
   "metadata": {
    "id": "XC-m2TUfayWE"
   },
   "source": [
    "### Questão 03\n",
    "\n",
    "#### Mais regex com re.search()"
   ]
  },
  {
   "cell_type": "code",
   "execution_count": 67,
   "metadata": {
    "colab": {
     "base_uri": "https://localhost:8080/"
    },
    "id": "EV1iGhlwbJX7",
    "outputId": "b9c6b8f7-e70e-4612-8c79-b866711d63f7"
   },
   "outputs": [
    {
     "name": "stdout",
     "output_type": "stream",
     "text": [
      "<re.Match object; span=(581, 589), match='coconuts'>\n"
     ]
    }
   ],
   "source": [
    "# Search for the first occurrence of \"coconuts\" in scene_one: match\n",
    "match = re.search(r'coconuts', scene_one)\n",
    "print(match)"
   ]
  },
  {
   "cell_type": "code",
   "execution_count": 69,
   "metadata": {
    "colab": {
     "base_uri": "https://localhost:8080/"
    },
    "id": "gndoYD2vb2R_",
    "outputId": "b800367a-e556-41a3-9381-e89400d3220f"
   },
   "outputs": [
    {
     "name": "stdout",
     "output_type": "stream",
     "text": [
      "Start: 581\n",
      "End: 589\n"
     ]
    }
   ],
   "source": [
    "# Print the start and end indexes of match\n",
    "print(f'Start: {match.start()}\\nEnd: {match.end()}')"
   ]
  },
  {
   "cell_type": "code",
   "execution_count": 70,
   "metadata": {
    "colab": {
     "base_uri": "https://localhost:8080/"
    },
    "id": "RiFIDEWtcnxz",
    "outputId": "98abac48-044a-4eae-e691-8350ec3fbb28"
   },
   "outputs": [
    {
     "name": "stdout",
     "output_type": "stream",
     "text": [
      "<re.Match object; span=(9, 15), match='[wind]'>\n"
     ]
    }
   ],
   "source": [
    "# Write a regular expression to search for anything in square brackets: pattern1\n",
    "pattern1 = r'\\[[\\w' + re.escape(string.punctuation) + ']+\\]'\n",
    "\n",
    "res = re.search(pattern1, scene_one)\n",
    "\n",
    "# Use re.search to find the first text in square brackets\n",
    "print(res)"
   ]
  },
  {
   "cell_type": "code",
   "execution_count": 71,
   "metadata": {
    "colab": {
     "base_uri": "https://localhost:8080/"
    },
    "id": "9NRWpYDsa_Wz",
    "outputId": "7f2b20d7-38c6-488d-b3b2-0c9440cadae1",
    "scrolled": true
   },
   "outputs": [
    {
     "name": "stdout",
     "output_type": "stream",
     "text": [
      "<re.Match object; span=(0, 7), match='ARTHUR:'>\n"
     ]
    }
   ],
   "source": [
    "# Find the script notation at the beginning of the fourth sentence and print it\n",
    "pattern2 = r\"[a-zA-Z]+:\"\n",
    "print(re.match(pattern2, sentences[3]))"
   ]
  },
  {
   "cell_type": "markdown",
   "metadata": {
    "id": "tNZIS-MWrnu_"
   },
   "source": [
    "### Questão 04\n",
    "\n",
    "#### Regex com tokenização na NLTK"
   ]
  },
  {
   "cell_type": "code",
   "execution_count": 72,
   "metadata": {
    "id": "DUVXwf-6tbuK"
   },
   "outputs": [],
   "source": [
    "tweets = get_tweets_sample()"
   ]
  },
  {
   "cell_type": "code",
   "execution_count": 73,
   "metadata": {
    "colab": {
     "base_uri": "https://localhost:8080/"
    },
    "id": "7uSl7HlLuCnO",
    "outputId": "dc7b2111-7350-464a-b84c-46528836ed2f"
   },
   "outputs": [
    {
     "data": {
      "text/plain": [
       "['This is the best #nlp exercise ive found online! #python',\n",
       " '#NLP is super fun! <3 #learning',\n",
       " 'Thanks @Atlantico :) #nlp #python']"
      ]
     },
     "execution_count": 73,
     "metadata": {},
     "output_type": "execute_result"
    }
   ],
   "source": [
    "tweets"
   ]
  },
  {
   "cell_type": "code",
   "execution_count": 74,
   "metadata": {
    "colab": {
     "base_uri": "https://localhost:8080/"
    },
    "id": "0bBOHVolts96",
    "outputId": "828f27f7-98dd-4ea1-9e99-0273c1d5878d"
   },
   "outputs": [
    {
     "name": "stdout",
     "output_type": "stream",
     "text": [
      "['#nlp', '#python']\n"
     ]
    }
   ],
   "source": [
    "# Define a regex pattern to find hashtags: pattern1\n",
    "pattern1 = r\"#\\w+\"\n",
    "# Use the pattern on the first tweet in the tweets list\n",
    "hashtags = regexp_tokenize(tweets[0], pattern1)\n",
    "print(hashtags)"
   ]
  },
  {
   "cell_type": "code",
   "execution_count": 75,
   "metadata": {
    "colab": {
     "base_uri": "https://localhost:8080/"
    },
    "id": "GyhjQKrMuQzo",
    "outputId": "7ef09b3f-b482-4f9a-a7a0-c43dc863599c"
   },
   "outputs": [
    {
     "name": "stdout",
     "output_type": "stream",
     "text": [
      "['@Atlantico', '#nlp', '#python']\n"
     ]
    }
   ],
   "source": [
    "# Write a pattern that matches both mentions (@) and hashtags\n",
    "pattern2 = r\"([#|@]\\w+)\"\n",
    "# Use the pattern on the last tweet in the tweets list\n",
    "mentions_hashtags = regexp_tokenize(tweets[-1], pattern2)\n",
    "print(mentions_hashtags)"
   ]
  },
  {
   "cell_type": "code",
   "execution_count": 77,
   "metadata": {
    "colab": {
     "base_uri": "https://localhost:8080/"
    },
    "id": "zSpQSAKXsP4q",
    "outputId": "2fb463ed-46a9-419d-9858-16b8b4b02f5e"
   },
   "outputs": [
    {
     "name": "stdout",
     "output_type": "stream",
     "text": [
      "['This', 'is', 'the', 'best', '#nlp', 'exercise', 'ive', 'found', 'online', '!', '#python']\n",
      "['#NLP', 'is', 'super', 'fun', '!', '<3', '#learning']\n",
      "['Thanks', '@Atlantico', ':)', '#nlp', '#python']\n"
     ]
    }
   ],
   "source": [
    "# Use the TweetTokenizer to tokenize all tweets into one list\n",
    "tknzr = TweetTokenizer()\n",
    "all_tokens = [ tknzr.tokenize(t) for t in tweets]\n",
    "print(*all_tokens, sep='\\n')"
   ]
  },
  {
   "cell_type": "markdown",
   "metadata": {
    "id": "wB3MGUmpwhP7"
   },
   "source": [
    "### Questão 05\n",
    "\n",
    "#### Prática de gráficos"
   ]
  },
  {
   "cell_type": "code",
   "execution_count": 78,
   "metadata": {
    "id": "icdSYeWZxS1i"
   },
   "outputs": [],
   "source": [
    "holy_grail = get_sample_Santo_Graal()"
   ]
  },
  {
   "cell_type": "code",
   "execution_count": 79,
   "metadata": {
    "colab": {
     "base_uri": "https://localhost:8080/"
    },
    "id": "jYvUbytzzQxJ",
    "outputId": "139556f9-35df-4960-b82b-1872db8bd1d3"
   },
   "outputs": [
    {
     "data": {
      "text/plain": [
       "['SCENE 1: [wind] [clop clop clop] ',\n",
       " ' KING ARTHUR: Whoa there!  [clop clop clop] ',\n",
       " 'SOLDIER #1: Halt!  Who goes there?',\n",
       " 'ARTHUR: It is I, Arthur, son of Uther Pendragon, from the castle of Camelot.  King of the Britons, defeator of the Saxons, sovereign of all England!',\n",
       " 'SOLDIER #1: Pull the other one!',\n",
       " 'ARTHUR: I am, ...  and this is my trusty servant Patsy.  We have ridden the length and breadth of the land in search of knights who will join me in my court at Camelot.  I must speak with your lord and master.',\n",
       " 'SOLDIER #1: What?  Ridden on a horse?',\n",
       " 'ARTHUR: Yes!',\n",
       " \"SOLDIER #1: You're using coconuts!\",\n",
       " 'ARTHUR: What?',\n",
       " \"SOLDIER #1: You've got two empty halves of coconut and you're bangin' 'em together.\",\n",
       " 'ARTHUR: So?  We have ridden since the snows of winter covered this land, through the kingdom of Mercea, through--',\n",
       " \"SOLDIER #1: Where'd you get the coconuts?\",\n",
       " 'ARTHUR: We found them.',\n",
       " \"SOLDIER #1: Found them?  In Mercea?  The coconut's tropical!\",\n",
       " 'ARTHUR: What do you mean?',\n",
       " 'SOLDIER #1: Well, this is a temperate zone.',\n",
       " 'ARTHUR: The swallow may fly south with the sun or the house martin or the plover may seek warmer climes in winter, yet these are not strangers to our land?',\n",
       " 'SOLDIER #1: Are you suggesting coconuts migrate?',\n",
       " 'ARTHUR: Not at all.  They could be carried.',\n",
       " 'SOLDIER #1: What?  A swallow carrying a coconut?',\n",
       " 'ARTHUR: It could grip it by the husk!',\n",
       " \"SOLDIER #1: It's not a question of where he grips it!  It's a simple question of weight ratios!  A five ounce bird could not carry a one pound coconut.\",\n",
       " \"ARTHUR: Well, it doesn't matter.  Will you go and tell your master that Arthur from the Court of Camelot is here.\",\n",
       " 'SOLDIER #1: Listen.  In order to maintain air-speed velocity, a swallow needs to beat its wings forty-three times every second, right?',\n",
       " 'ARTHUR: Please!',\n",
       " 'SOLDIER #1: Am I right?',\n",
       " \"ARTHUR: I'm not interested!\",\n",
       " 'SOLDIER #2: It could be carried by an African swallow!',\n",
       " \"SOLDIER #1: Oh, yeah, an African swallow maybe, but not a European swallow.  That's my point.\",\n",
       " 'SOLDIER #2: Oh, yeah, I agree with that.',\n",
       " 'ARTHUR: Will you ask your master if he wants to join my court at Camelot?!',\n",
       " 'SOLDIER #1: But then of course a-- African swallows are non-migratory.',\n",
       " 'SOLDIER #2: Oh, yeah...',\n",
       " \"SOLDIER #1: So they couldn't bring a coconut back anyway...  [clop clop clop] \",\n",
       " 'SOLDIER #2: Wait a minute!  Supposing two swallows carried it together?',\n",
       " \"SOLDIER #1: No, they'd have to have it on a line.\",\n",
       " \"SOLDIER #2: Well, simple!  They'd just use a strand of creeper!\",\n",
       " 'SOLDIER #1: What, held under the dorsal guiding feathers?',\n",
       " 'SOLDIER #2: Well, why not?',\n",
       " '']"
      ]
     },
     "execution_count": 79,
     "metadata": {},
     "output_type": "execute_result"
    }
   ],
   "source": [
    "# Split the script into lines: lines\n",
    "holy_grail = get_sample_Santo_Graal()\n",
    "lines = holy_grail.split('\\n')\n",
    "lines"
   ]
  },
  {
   "cell_type": "code",
   "execution_count": 82,
   "metadata": {
    "id": "X9E66BgNz5Yu"
   },
   "outputs": [],
   "source": [
    "# Replace all script lines for speaker\n",
    "pattern= r'[A-Z]{2,}(\\s)?(#\\d)?([A-Z]{2,})?:'\n",
    "linesv2 = [re.sub(pattern, '', l).strip() for l in lines]"
   ]
  },
  {
   "cell_type": "code",
   "execution_count": 83,
   "metadata": {
    "colab": {
     "base_uri": "https://localhost:8080/"
    },
    "id": "bcleDhPyz694",
    "outputId": "b03a650b-97e3-44c6-e879-40f25f9b7cb0"
   },
   "outputs": [
    {
     "data": {
      "text/plain": [
       "['SCENE 1: [wind] [clop clop clop]',\n",
       " 'Whoa there!  [clop clop clop]',\n",
       " 'Halt!  Who goes there?',\n",
       " 'It is I, Arthur, son of Uther Pendragon, from the castle of Camelot.  King of the Britons, defeator of the Saxons, sovereign of all England!',\n",
       " 'Pull the other one!',\n",
       " 'I am, ...  and this is my trusty servant Patsy.  We have ridden the length and breadth of the land in search of knights who will join me in my court at Camelot.  I must speak with your lord and master.',\n",
       " 'What?  Ridden on a horse?',\n",
       " 'Yes!',\n",
       " \"You're using coconuts!\",\n",
       " 'What?',\n",
       " \"You've got two empty halves of coconut and you're bangin' 'em together.\",\n",
       " 'So?  We have ridden since the snows of winter covered this land, through the kingdom of Mercea, through--',\n",
       " \"Where'd you get the coconuts?\",\n",
       " 'We found them.',\n",
       " \"Found them?  In Mercea?  The coconut's tropical!\",\n",
       " 'What do you mean?',\n",
       " 'Well, this is a temperate zone.',\n",
       " 'The swallow may fly south with the sun or the house martin or the plover may seek warmer climes in winter, yet these are not strangers to our land?',\n",
       " 'Are you suggesting coconuts migrate?',\n",
       " 'Not at all.  They could be carried.',\n",
       " 'What?  A swallow carrying a coconut?',\n",
       " 'It could grip it by the husk!',\n",
       " \"It's not a question of where he grips it!  It's a simple question of weight ratios!  A five ounce bird could not carry a one pound coconut.\",\n",
       " \"Well, it doesn't matter.  Will you go and tell your master that Arthur from the Court of Camelot is here.\",\n",
       " 'Listen.  In order to maintain air-speed velocity, a swallow needs to beat its wings forty-three times every second, right?',\n",
       " 'Please!',\n",
       " 'Am I right?',\n",
       " \"I'm not interested!\",\n",
       " 'It could be carried by an African swallow!',\n",
       " \"Oh, yeah, an African swallow maybe, but not a European swallow.  That's my point.\",\n",
       " 'Oh, yeah, I agree with that.',\n",
       " 'Will you ask your master if he wants to join my court at Camelot?!',\n",
       " 'But then of course a-- African swallows are non-migratory.',\n",
       " 'Oh, yeah...',\n",
       " \"So they couldn't bring a coconut back anyway...  [clop clop clop]\",\n",
       " 'Wait a minute!  Supposing two swallows carried it together?',\n",
       " \"No, they'd have to have it on a line.\",\n",
       " \"Well, simple!  They'd just use a strand of creeper!\",\n",
       " 'What, held under the dorsal guiding feathers?',\n",
       " 'Well, why not?',\n",
       " '']"
      ]
     },
     "execution_count": 83,
     "metadata": {},
     "output_type": "execute_result"
    }
   ],
   "source": [
    "linesv2"
   ]
  },
  {
   "cell_type": "code",
   "execution_count": 84,
   "metadata": {
    "colab": {
     "base_uri": "https://localhost:8080/"
    },
    "id": "X-MEjzh5emmJ",
    "outputId": "72da6e48-3881-4656-cea9-45af83694b5b"
   },
   "outputs": [
    {
     "name": "stdout",
     "output_type": "stream",
     "text": [
      "['SCENE', '1', 'wind', 'clop', 'clop', 'clop']\n",
      "['Whoa', 'there', 'clop', 'clop', 'clop']\n",
      "['Halt', 'Who', 'goes', 'there']\n",
      "['It', 'is', 'I', 'Arthur', 'son', 'of', 'Uther', 'Pendragon', 'from', 'the', 'castle', 'of', 'Camelot', 'King', 'of', 'the', 'Britons', 'defeator', 'of', 'the', 'Saxons', 'sovereign', 'of', 'all', 'England']\n",
      "['Pull', 'the', 'other', 'one']\n",
      "['I', 'am', 'and', 'this', 'is', 'my', 'trusty', 'servant', 'Patsy', 'We', 'have', 'ridden', 'the', 'length', 'and', 'breadth', 'of', 'the', 'land', 'in', 'search', 'of', 'knights', 'who', 'will', 'join', 'me', 'in', 'my', 'court', 'at', 'Camelot', 'I', 'must', 'speak', 'with', 'your', 'lord', 'and', 'master']\n",
      "['What', 'Ridden', 'on', 'a', 'horse']\n",
      "['Yes']\n",
      "['You', 're', 'using', 'coconuts']\n",
      "['What']\n",
      "['You', 've', 'got', 'two', 'empty', 'halves', 'of', 'coconut', 'and', 'you', 're', 'bangin', 'em', 'together']\n",
      "['So', 'We', 'have', 'ridden', 'since', 'the', 'snows', 'of', 'winter', 'covered', 'this', 'land', 'through', 'the', 'kingdom', 'of', 'Mercea', 'through']\n",
      "['Where', 'd', 'you', 'get', 'the', 'coconuts']\n",
      "['We', 'found', 'them']\n",
      "['Found', 'them', 'In', 'Mercea', 'The', 'coconut', 's', 'tropical']\n",
      "['What', 'do', 'you', 'mean']\n",
      "['Well', 'this', 'is', 'a', 'temperate', 'zone']\n",
      "['The', 'swallow', 'may', 'fly', 'south', 'with', 'the', 'sun', 'or', 'the', 'house', 'martin', 'or', 'the', 'plover', 'may', 'seek', 'warmer', 'climes', 'in', 'winter', 'yet', 'these', 'are', 'not', 'strangers', 'to', 'our', 'land']\n",
      "['Are', 'you', 'suggesting', 'coconuts', 'migrate']\n",
      "['Not', 'at', 'all', 'They', 'could', 'be', 'carried']\n",
      "['What', 'A', 'swallow', 'carrying', 'a', 'coconut']\n",
      "['It', 'could', 'grip', 'it', 'by', 'the', 'husk']\n",
      "['It', 's', 'not', 'a', 'question', 'of', 'where', 'he', 'grips', 'it', 'It', 's', 'a', 'simple', 'question', 'of', 'weight', 'ratios', 'A', 'five', 'ounce', 'bird', 'could', 'not', 'carry', 'a', 'one', 'pound', 'coconut']\n",
      "['Well', 'it', 'doesn', 't', 'matter', 'Will', 'you', 'go', 'and', 'tell', 'your', 'master', 'that', 'Arthur', 'from', 'the', 'Court', 'of', 'Camelot', 'is', 'here']\n",
      "['Listen', 'In', 'order', 'to', 'maintain', 'air', 'speed', 'velocity', 'a', 'swallow', 'needs', 'to', 'beat', 'its', 'wings', 'forty', 'three', 'times', 'every', 'second', 'right']\n",
      "['Please']\n",
      "['Am', 'I', 'right']\n",
      "['I', 'm', 'not', 'interested']\n",
      "['It', 'could', 'be', 'carried', 'by', 'an', 'African', 'swallow']\n",
      "['Oh', 'yeah', 'an', 'African', 'swallow', 'maybe', 'but', 'not', 'a', 'European', 'swallow', 'That', 's', 'my', 'point']\n",
      "['Oh', 'yeah', 'I', 'agree', 'with', 'that']\n",
      "['Will', 'you', 'ask', 'your', 'master', 'if', 'he', 'wants', 'to', 'join', 'my', 'court', 'at', 'Camelot']\n",
      "['But', 'then', 'of', 'course', 'a', 'African', 'swallows', 'are', 'non', 'migratory']\n",
      "['Oh', 'yeah']\n",
      "['So', 'they', 'couldn', 't', 'bring', 'a', 'coconut', 'back', 'anyway', 'clop', 'clop', 'clop']\n",
      "['Wait', 'a', 'minute', 'Supposing', 'two', 'swallows', 'carried', 'it', 'together']\n",
      "['No', 'they', 'd', 'have', 'to', 'have', 'it', 'on', 'a', 'line']\n",
      "['Well', 'simple', 'They', 'd', 'just', 'use', 'a', 'strand', 'of', 'creeper']\n",
      "['What', 'held', 'under', 'the', 'dorsal', 'guiding', 'feathers']\n",
      "['Well', 'why', 'not']\n",
      "[]\n"
     ]
    }
   ],
   "source": [
    "# Tokenize each line: tokenized_lines\n",
    "tokenized_lines = [regexp_tokenize(line, r'\\w+') for line in linesv2]\n",
    "print(*tokenized_lines, sep='\\n')"
   ]
  },
  {
   "cell_type": "code",
   "execution_count": 85,
   "metadata": {
    "id": "9cDlMWd1e2a-"
   },
   "outputs": [],
   "source": [
    "# Make a frequency list of lengths: line_num_words\n",
    "line_num_words = [len(line) for line in tokenized_lines]"
   ]
  },
  {
   "cell_type": "code",
   "execution_count": 86,
   "metadata": {
    "colab": {
     "base_uri": "https://localhost:8080/"
    },
    "id": "cfBdJc3Wbo8g",
    "outputId": "65ff3be8-201b-42b0-8a17-debaff3dff48"
   },
   "outputs": [
    {
     "data": {
      "text/plain": [
       "40"
      ]
     },
     "execution_count": 86,
     "metadata": {},
     "output_type": "execute_result"
    }
   ],
   "source": [
    "max(line_num_words)"
   ]
  },
  {
   "cell_type": "code",
   "execution_count": 88,
   "metadata": {
    "colab": {
     "base_uri": "https://localhost:8080/",
     "height": 463
    },
    "id": "2zvbcYazxNPB",
    "outputId": "3df9cd27-2d13-4216-ed6e-98455b0b60f9"
   },
   "outputs": [
    {
     "data": {
      "image/png": "[encoded data removed]",
      "text/plain": [
       "<Figure size 648x504 with 1 Axes>"
      ]
     },
     "metadata": {
      "needs_background": "light"
     },
     "output_type": "display_data"
    }
   ],
   "source": [
    "# Plot a histogram of the line lengths\n",
    "plt.figure(figsize=(9, 7))\n",
    "plt.hist(line_num_words)\n",
    "plt.title('Distribuição do tamanho de cada sentença', fontsize=15)\n",
    "plt.xlabel('Tamanho', fontsize=12)\n",
    "plt.ylabel('Contagem', fontsize=12)\n",
    "# Show the plot\n",
    "plt.show()"
   ]
  }
 ],
 "metadata": {
  "colab": {
   "collapsed_sections": [],
   "name": "Atividade em classe  - 01.ipynb",
   "provenance": []
  },
  "kernelspec": {
   "display_name": "Python 3",
   "language": "python",
   "name": "python3"
  },
  "language_info": {
   "codemirror_mode": {
    "name": "ipython",
    "version": 3
   },
   "file_extension": ".py",
   "mimetype": "text/x-python",
   "name": "python",
   "nbconvert_exporter": "python",
   "pygments_lexer": "ipython3",
   "version": "3.7.6"
  }
 },
 "nbformat": 4,
 "nbformat_minor": 1
}
